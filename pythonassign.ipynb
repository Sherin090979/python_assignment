{
 "cells": [
  {
   "cell_type": "code",
   "execution_count": 3,
   "id": "fe69e1cf-3c85-45a2-a5f0-878d5a88e6c3",
   "metadata": {},
   "outputs": [
    {
     "name": "stdin",
     "output_type": "stream",
     "text": [
      "Enter first number:  10\n",
      "Enter second number:  3\n"
     ]
    },
    {
     "name": "stdout",
     "output_type": "stream",
     "text": [
      "Addition: 13\n",
      "Subtraction: 7\n",
      "Multiplication: 30\n",
      "Division: 3.33\n",
      "Modulus: 1\n",
      "Exponentiation: 1000\n",
      "Floor Division: 3\n"
     ]
    }
   ],
   "source": [
    "# Taking input from the user\n",
    "num1 = int(input(\"Enter first number: \"))\n",
    "num2 = int(input(\"Enter second number: \"))\n",
    "\n",
    "# Performing operations\n",
    "addition = num1 + num2\n",
    "subtraction = num1 - num2\n",
    "multiplication = num1 * num2\n",
    "division = num1 / num2\n",
    "modulus = num1 % num2\n",
    "exponentiation = num1 ** num2\n",
    "floor_division = num1 // num2\n",
    "\n",
    "# Displaying results\n",
    "print(f\"Addition: {addition}\")\n",
    "print(f\"Subtraction: {subtraction}\")\n",
    "print(f\"Multiplication: {multiplication}\")\n",
    "print(f\"Division: {division:.2f}\")\n",
    "print(f\"Modulus: {modulus}\")\n",
    "print(f\"Exponentiation: {exponentiation}\")\n",
    "print(f\"Floor Division: {floor_division}\")\n"
   ]
  },
  {
   "cell_type": "code",
   "execution_count": 5,
   "id": "d5817eca-5fee-4bda-89ac-3311f20e8f74",
   "metadata": {},
   "outputs": [
    {
     "name": "stdin",
     "output_type": "stream",
     "text": [
      "Enter the first number:  5\n",
      "Enter the second number:  19\n"
     ]
    },
    {
     "name": "stdout",
     "output_type": "stream",
     "text": [
      "The first number is less than or equal to the second.\n"
     ]
    }
   ],
   "source": [
    "# Taking input from the user\n",
    "num1 = int(input(\"Enter the first number: \"))\n",
    "num2 = int(input(\"Enter the second number: \"))\n",
    "\n",
    "# Checking conditions\n",
    "if num1 > num2:\n",
    "    print(\"The first number is greater than the second.\")\n",
    "elif num1 == num2:\n",
    "    print(\"The first number is equal to the second.\")\n",
    "else:\n",
    "    print(\"The first number is less than or equal to the second.\")\n"
   ]
  },
  {
   "cell_type": "code",
   "execution_count": 5,
   "id": "b1e5e514-c7f4-4e73-985a-e1a1567830d3",
   "metadata": {},
   "outputs": [
    {
     "name": "stdout",
     "output_type": "stream",
     "text": [
      "False\n"
     ]
    }
   ],
   "source": [
    "#assinging bollean values\n",
    "bool1=10\n",
    "bool2=20\n",
    "print(bool(bool1>bool2))"
   ]
  },
  {
   "cell_type": "code",
   "execution_count": 9,
   "id": "c761d60f-1565-4426-a2ae-fb97bfa97594",
   "metadata": {},
   "outputs": [
    {
     "name": "stdout",
     "output_type": "stream",
     "text": [
      "False\n"
     ]
    }
   ],
   "source": [
    "print(bool(bool1==bool2))"
   ]
  },
  {
   "cell_type": "code",
   "execution_count": 11,
   "id": "53e42e12-0dd5-4f43-af74-8e33bcf86550",
   "metadata": {},
   "outputs": [
    {
     "name": "stdout",
     "output_type": "stream",
     "text": [
      "True\n"
     ]
    }
   ],
   "source": [
    "print(bool(bool1<bool2))"
   ]
  },
  {
   "cell_type": "code",
   "execution_count": 19,
   "id": "751fbf17-02dc-46e9-b53c-da227f584a38",
   "metadata": {},
   "outputs": [
    {
     "name": "stdout",
     "output_type": "stream",
     "text": [
      "False\n"
     ]
    }
   ],
   "source": [
    "x=30\n",
    "y=50\n",
    "z=90\n",
    "\n",
    "result=(x<y or y>z) and not (x==30)\n",
    "print(result)\n",
    "\n"
   ]
  },
  {
   "cell_type": "code",
   "execution_count": 47,
   "id": "978bc0da-1765-41cc-afeb-63a970b2c5a1",
   "metadata": {},
   "outputs": [
    {
     "name": "stdin",
     "output_type": "stream",
     "text": [
      "Enter a string: she\n"
     ]
    },
    {
     "name": "stdout",
     "output_type": "stream",
     "text": [
      "Length of the string is: 3\n",
      "First chracter is : s\n",
      "Last chracter is : e\n",
      "Reverse order is: ehs\n",
      "Upper case of the string is: SHE\n",
      "Lower case of the string is : she\n"
     ]
    }
   ],
   "source": [
    "x = input(\"Enter a string:\")\n",
    "print(f\"Length of the string is:\",len(x))\n",
    "print(f\"First chracter is :\",x[0])\n",
    "print(f\"Last chracter is :\",x[-1])\n",
    "print(f\"Reverse order is:\",x[::-1])\n",
    "print(f\"Upper case of the string is:\",x.upper())\n",
    "print(F\"Lower case of the string is :\",x.lower())\n",
    "\n",
    "\n"
   ]
  },
  {
   "cell_type": "code",
   "execution_count": 67,
   "id": "5daf8af2-119a-4d24-aa56-a0f0b37e16d2",
   "metadata": {},
   "outputs": [
    {
     "name": "stdin",
     "output_type": "stream",
     "text": [
      "Enter Your name: sherin\n",
      "Enter your age: 21\n"
     ]
    },
    {
     "name": "stdout",
     "output_type": "stream",
     "text": [
      "Hello sherin, you are 21 years old.\n"
     ]
    }
   ],
   "source": [
    "name=input(\"Enter Your name:\")\n",
    "age=input(\"Enter your age:\")\n",
    "print(f\"Hello {name}, you are {age} years old.\")"
   ]
  },
  {
   "cell_type": "code",
   "execution_count": 1,
   "id": "281a9207-984a-4487-b5a7-c951f07f64f1",
   "metadata": {},
   "outputs": [
    {
     "name": "stdin",
     "output_type": "stream",
     "text": [
      "Enter a sentence:  hi my name is sherin\n",
      "Enter the word to search:  sherin\n"
     ]
    },
    {
     "name": "stdout",
     "output_type": "stream",
     "text": [
      "The word 'sherin' exists in the sentence at index 14.\n"
     ]
    }
   ],
   "source": [
    "# To Get a sentence input from the user\n",
    "sentence = input(\"Enter a sentence: \")\n",
    "\n",
    "# To Get the word to search in the sentence\n",
    "word = input(\"Enter the word to search: \")\n",
    "\n",
    "# To Search for the word and display the result\n",
    "index = sentence.find(word)  # Returns the starting index of the word or -1 if not found\n",
    "\n",
    "if index != -1:\n",
    "    print(f\"The word '{word}' exists in the sentence at index {index}.\")\n",
    "else:\n",
    "    print(f\"The word '{word}' does not exist in the sentence.\")\n"
   ]
  },
  {
   "cell_type": "code",
   "execution_count": 3,
   "id": "a3c61a93-3de8-4214-9089-ff67dede8c0e",
   "metadata": {},
   "outputs": [
    {
     "name": "stdin",
     "output_type": "stream",
     "text": [
      "Enter number 1:  20\n",
      "Enter number 2:  55\n",
      "Enter number 3:  66\n",
      "Enter number 4:  77\n",
      "Enter number 5:  7\n"
     ]
    },
    {
     "name": "stdout",
     "output_type": "stream",
     "text": [
      "The sum of all the numbers is: 225.0\n",
      "The largest number is: 77.0\n",
      "The smallest number is: 7.0\n"
     ]
    }
   ],
   "source": [
    "numbers = []\n",
    "for i in range(5):\n",
    "    num = float(input(f\"Enter number {i + 1}: \"))\n",
    "    numbers.append(num)\n",
    "\n",
    "# To Display the sum of all the numbers in the list\n",
    "total_sum = sum(numbers)\n",
    "print(f\"The sum of all the numbers is: {total_sum}\")\n",
    "\n",
    "# To Find the largest and smallest number in the list\n",
    "largest = max(numbers)\n",
    "smallest = min(numbers)\n",
    "\n",
    "print(f\"The largest number is: {largest}\")\n",
    "print(f\"The smallest number is: {smallest}\")\n"
   ]
  },
  {
   "cell_type": "code",
   "execution_count": 5,
   "id": "ecefdeb4-33b1-4204-ab38-cf0594eee09c",
   "metadata": {},
   "outputs": [
    {
     "name": "stdout",
     "output_type": "stream",
     "text": [
      "updated list of fruits: ['apple', 'mango', 'orange', 'pear', 'pineapple']\n"
     ]
    }
   ],
   "source": [
    "fruits=['apple','Banana','mango','orange','pear']\n",
    "#to add new element\n",
    "fruits.append(\"pineapple\")\n",
    "#To remove\n",
    "fruits.pop(1)\n",
    "print(\"updated list of fruits:\",fruits)\n"
   ]
  },
  {
   "cell_type": "code",
   "execution_count": 9,
   "id": "7bf68582-ee19-440e-a921-4b161b1190d2",
   "metadata": {},
   "outputs": [
    {
     "name": "stdin",
     "output_type": "stream",
     "text": [
      "Enter number 1:  20\n",
      "Enter number 2:  30\n",
      "Enter number 3:  40\n",
      "Enter number 4:  80\n",
      "Enter number 5:  70\n"
     ]
    },
    {
     "name": "stdout",
     "output_type": "stream",
     "text": [
      "List in ascending order: [20, 30, 40, 70, 80]\n",
      "List in descending order: [80, 70, 40, 30, 20]\n"
     ]
    }
   ],
   "source": [
    "# to input a list of 5 numbers\n",
    "numbers = []\n",
    "for i in range(5):\n",
    "    num = int(input(f\"Enter number {i + 1}: \"))\n",
    "    numbers.append(num)\n",
    "\n",
    "# Sort the list in ascending order and display it\n",
    "ascending = sorted(numbers)\n",
    "print(\"List in ascending order:\", ascending)\n",
    "\n",
    "# Sort the list in descending order and display it\n",
    "descending = sorted(numbers, reverse=True)\n",
    "print(\"List in descending order:\", descending)"
   ]
  },
  {
   "cell_type": "code",
   "execution_count": 13,
   "id": "f20fa8e5-0e64-47d4-8549-b99fd8e40597",
   "metadata": {},
   "outputs": [
    {
     "name": "stdout",
     "output_type": "stream",
     "text": [
      "First 5 elements: [1, 2, 3, 4, 5]\n",
      "Last 5 elements: [6, 7, 8, 9, 10]\n",
      "Elements from index 2 to 7: [3, 4, 5, 6, 7, 8]\n"
     ]
    }
   ],
   "source": [
    "numbers = [1, 2, 3, 4, 5, 6, 7, 8, 9, 10]\n",
    "\n",
    "#To Print the first 5 elements\n",
    "print(\"First 5 elements:\", numbers[:5])\n",
    "\n",
    "#To Print the last 5 elements\n",
    "print(\"Last 5 elements:\", numbers[-5:])\n",
    "\n",
    "# To Print the elements from index 2 to index 7 \n",
    "print(\"Elements from index 2 to 7:\", numbers[2:8])\n"
   ]
  },
  {
   "cell_type": "code",
   "execution_count": null,
   "id": "1d8db520-32ec-40e1-9481-f89f822a0b69",
   "metadata": {},
   "outputs": [],
   "source": []
  }
 ],
 "metadata": {
  "kernelspec": {
   "display_name": "Python 3 (ipykernel)",
   "language": "python",
   "name": "python3"
  },
  "language_info": {
   "codemirror_mode": {
    "name": "ipython",
    "version": 3
   },
   "file_extension": ".py",
   "mimetype": "text/x-python",
   "name": "python",
   "nbconvert_exporter": "python",
   "pygments_lexer": "ipython3",
   "version": "3.12.4"
  }
 },
 "nbformat": 4,
 "nbformat_minor": 5
}
